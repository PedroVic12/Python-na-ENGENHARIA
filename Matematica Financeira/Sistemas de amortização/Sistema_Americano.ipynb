{
 "cells": [
  {
   "cell_type": "code",
   "execution_count": 16,
   "metadata": {},
   "outputs": [],
   "source": [
    "import pandas as pd"
   ]
  },
  {
   "cell_type": "code",
   "execution_count": 8,
   "metadata": {},
   "outputs": [
    {
     "name": "stdout",
     "output_type": "stream",
     "text": [
      "0.3019208044540391\n",
      "55855.348823997236\n"
     ]
    }
   ],
   "source": [
    "x = 1 + 0.08\n",
    "y = x**4\n",
    "z1 = y*0.08\n",
    "z1\n",
    "\n",
    "z2 = y -1\n",
    "z2\n",
    "\n",
    "print(z1/z2)\n",
    "pmt = 185000*(z1/z2)\n",
    "print(pmt)\n"
   ]
  },
  {
   "cell_type": "markdown",
   "metadata": {},
   "source": [
    "#### Exemplo 1 de revisão:"
   ]
  },
  {
   "cell_type": "code",
   "execution_count": 17,
   "metadata": {},
   "outputs": [
    {
     "name": "stdout",
     "output_type": "stream",
     "text": [
      "Juros = 3600 reais \n",
      "Valor final = 75748.62 reais\n"
     ]
    }
   ],
   "source": [
    "#Dados iniciais do problema\n",
    "pv = 60000\n",
    "n = 4\n",
    "i = 6/100\n",
    "\n",
    "#Calculo de juros\n",
    "juros = pv*i\n",
    "print(f'Juros = {int(juros)} reais ')\n",
    "\n",
    "#Future Value\n",
    "fv = pv*(1+i)**n\n",
    "print(f'Valor final = {fv:.2f} reais')\n"
   ]
  },
  {
   "cell_type": "code",
   "execution_count": 18,
   "metadata": {},
   "outputs": [
    {
     "name": "stdout",
     "output_type": "stream",
     "text": [
      "Juros = 3600.0 reais \n",
      "Valor final = 75748.62 reais\n"
     ]
    },
    {
     "data": {
      "text/html": [
       "<div>\n",
       "<style scoped>\n",
       "    .dataframe tbody tr th:only-of-type {\n",
       "        vertical-align: middle;\n",
       "    }\n",
       "\n",
       "    .dataframe tbody tr th {\n",
       "        vertical-align: top;\n",
       "    }\n",
       "\n",
       "    .dataframe thead th {\n",
       "        text-align: right;\n",
       "    }\n",
       "</style>\n",
       "<table border=\"1\" class=\"dataframe\">\n",
       "  <thead>\n",
       "    <tr style=\"text-align: right;\">\n",
       "      <th></th>\n",
       "      <th>Ano</th>\n",
       "      <th>Juros</th>\n",
       "      <th>Amortização</th>\n",
       "      <th>Prestação</th>\n",
       "      <th>Saldo devedor</th>\n",
       "    </tr>\n",
       "  </thead>\n",
       "  <tbody>\n",
       "    <tr>\n",
       "      <th>0</th>\n",
       "      <td>0</td>\n",
       "      <td>0.0</td>\n",
       "      <td>0.0000</td>\n",
       "      <td>0.0000</td>\n",
       "      <td>60000</td>\n",
       "    </tr>\n",
       "    <tr>\n",
       "      <th>1</th>\n",
       "      <td>1</td>\n",
       "      <td>3600.0</td>\n",
       "      <td>0.0000</td>\n",
       "      <td>3600.0000</td>\n",
       "      <td>60000</td>\n",
       "    </tr>\n",
       "    <tr>\n",
       "      <th>2</th>\n",
       "      <td>2</td>\n",
       "      <td>3600.0</td>\n",
       "      <td>0.0000</td>\n",
       "      <td>3600.0000</td>\n",
       "      <td>60000</td>\n",
       "    </tr>\n",
       "    <tr>\n",
       "      <th>3</th>\n",
       "      <td>3</td>\n",
       "      <td>3600.0</td>\n",
       "      <td>0.0000</td>\n",
       "      <td>3600.0000</td>\n",
       "      <td>60000</td>\n",
       "    </tr>\n",
       "    <tr>\n",
       "      <th>4</th>\n",
       "      <td>4</td>\n",
       "      <td>3600.0</td>\n",
       "      <td>75748.6176</td>\n",
       "      <td>79348.6176</td>\n",
       "      <td>0</td>\n",
       "    </tr>\n",
       "  </tbody>\n",
       "</table>\n",
       "</div>"
      ],
      "text/plain": [
       "   Ano   Juros  Amortização   Prestação  Saldo devedor\n",
       "0    0     0.0       0.0000      0.0000          60000\n",
       "1    1  3600.0       0.0000   3600.0000          60000\n",
       "2    2  3600.0       0.0000   3600.0000          60000\n",
       "3    3  3600.0       0.0000   3600.0000          60000\n",
       "4    4  3600.0   75748.6176  79348.6176              0"
      ]
     },
     "metadata": {},
     "output_type": "display_data"
    }
   ],
   "source": [
    " p = juros + fv\n",
    "colunas = {\n",
    "    'Ano': [0,1,2,3,4],\n",
    "    'Juros': [0, juros, juros, juros, juros],\n",
    "    'Amortização': [0, 0, 0, 0, fv],\n",
    "    'Prestação': [0, juros, juros, juros, p],\n",
    "    'Saldo devedor':[pv, pv, pv, pv,0]}\n",
    "\n",
    "tabela_americana = pd.DataFrame(colunas)\n",
    "\n",
    "print(f'Juros = {juros} reais ')\n",
    "print(f'Valor final = {fv:.2f} reais')\n",
    "\n",
    "display(tabela_americana)"
   ]
  },
  {
   "cell_type": "code",
   "execution_count": 19,
   "metadata": {},
   "outputs": [
    {
     "data": {
      "text/html": [
       "<style type=\"text/css\">\n",
       "</style>\n",
       "<table id=\"T_11e93_\">\n",
       "  <thead>\n",
       "    <tr>\n",
       "      <th class=\"col_heading level0 col0\" >Ano</th>\n",
       "      <th class=\"col_heading level0 col1\" >Juros</th>\n",
       "      <th class=\"col_heading level0 col2\" >Amortização</th>\n",
       "      <th class=\"col_heading level0 col3\" >Prestação</th>\n",
       "      <th class=\"col_heading level0 col4\" >Saldo devedor</th>\n",
       "    </tr>\n",
       "  </thead>\n",
       "  <tbody>\n",
       "    <tr>\n",
       "      <td id=\"T_11e93_row0_col0\" class=\"data row0 col0\" >0</td>\n",
       "      <td id=\"T_11e93_row0_col1\" class=\"data row0 col1\" >0.000000</td>\n",
       "      <td id=\"T_11e93_row0_col2\" class=\"data row0 col2\" >0.000000</td>\n",
       "      <td id=\"T_11e93_row0_col3\" class=\"data row0 col3\" >0.000000</td>\n",
       "      <td id=\"T_11e93_row0_col4\" class=\"data row0 col4\" >60000.000000</td>\n",
       "    </tr>\n",
       "    <tr>\n",
       "      <td id=\"T_11e93_row1_col0\" class=\"data row1 col0\" >1</td>\n",
       "      <td id=\"T_11e93_row1_col1\" class=\"data row1 col1\" >3600.000000</td>\n",
       "      <td id=\"T_11e93_row1_col2\" class=\"data row1 col2\" >0.000000</td>\n",
       "      <td id=\"T_11e93_row1_col3\" class=\"data row1 col3\" >3600.000000</td>\n",
       "      <td id=\"T_11e93_row1_col4\" class=\"data row1 col4\" >60000.000000</td>\n",
       "    </tr>\n",
       "    <tr>\n",
       "      <td id=\"T_11e93_row2_col0\" class=\"data row2 col0\" >2</td>\n",
       "      <td id=\"T_11e93_row2_col1\" class=\"data row2 col1\" >3600.000000</td>\n",
       "      <td id=\"T_11e93_row2_col2\" class=\"data row2 col2\" >0.000000</td>\n",
       "      <td id=\"T_11e93_row2_col3\" class=\"data row2 col3\" >3600.000000</td>\n",
       "      <td id=\"T_11e93_row2_col4\" class=\"data row2 col4\" >60000.000000</td>\n",
       "    </tr>\n",
       "    <tr>\n",
       "      <td id=\"T_11e93_row3_col0\" class=\"data row3 col0\" >3</td>\n",
       "      <td id=\"T_11e93_row3_col1\" class=\"data row3 col1\" >3600.000000</td>\n",
       "      <td id=\"T_11e93_row3_col2\" class=\"data row3 col2\" >0.000000</td>\n",
       "      <td id=\"T_11e93_row3_col3\" class=\"data row3 col3\" >3600.000000</td>\n",
       "      <td id=\"T_11e93_row3_col4\" class=\"data row3 col4\" >60000.000000</td>\n",
       "    </tr>\n",
       "    <tr>\n",
       "      <td id=\"T_11e93_row4_col0\" class=\"data row4 col0\" >4</td>\n",
       "      <td id=\"T_11e93_row4_col1\" class=\"data row4 col1\" >3600.000000</td>\n",
       "      <td id=\"T_11e93_row4_col2\" class=\"data row4 col2\" >75748.617600</td>\n",
       "      <td id=\"T_11e93_row4_col3\" class=\"data row4 col3\" >79348.617600</td>\n",
       "      <td id=\"T_11e93_row4_col4\" class=\"data row4 col4\" >0.000000</td>\n",
       "    </tr>\n",
       "    <tr>\n",
       "      <td id=\"T_11e93_row5_col0\" class=\"data row5 col0\" >SOMA =  </td>\n",
       "      <td id=\"T_11e93_row5_col1\" class=\"data row5 col1\" >14400.000000</td>\n",
       "      <td id=\"T_11e93_row5_col2\" class=\"data row5 col2\" >75748.617600</td>\n",
       "      <td id=\"T_11e93_row5_col3\" class=\"data row5 col3\" >90148.617600</td>\n",
       "      <td id=\"T_11e93_row5_col4\" class=\"data row5 col4\" >nan</td>\n",
       "    </tr>\n",
       "  </tbody>\n",
       "</table>\n"
      ],
      "text/plain": [
       "<pandas.io.formats.style.Styler at 0x264592a7be0>"
      ]
     },
     "metadata": {},
     "output_type": "display_data"
    }
   ],
   "source": [
    "soma_juros = tabela_americana['Juros'].sum()\n",
    "soma_amortizacao = tabela_americana['Amortização'].sum()\n",
    "soma_prestacao = tabela_americana['Prestação'].sum()\n",
    "\n",
    "soma = {'Ano': 'SOMA =  ', \n",
    "     'Juros': soma_juros,\n",
    "     'Amortização': soma_amortizacao,\n",
    "     'Prestação': soma_prestacao\n",
    "     }\n",
    "\n",
    "tabela_americana = tabela_americana.append(soma, ignore_index=True)\n",
    "\n",
    "\n",
    "tabela_americana = tabela_americana.style.hide_index()\n",
    "display(tabela_americana)\n"
   ]
  },
  {
   "cell_type": "code",
   "execution_count": 20,
   "metadata": {},
   "outputs": [
    {
     "name": "stdout",
     "output_type": "stream",
     "text": [
      "17315.48954239639\n"
     ]
    }
   ],
   "source": [
    "# Sistema frances Formulas\n",
    "\n",
    "pv = 60000\n",
    "n = 4\n",
    "i = 6/100\n",
    "\n",
    "s = i+1\n",
    "\n",
    "x = ( i*(s**n) ) / ((s**n) - 1)\n",
    "\n",
    "pmt = x*pv\n",
    "\n",
    "print(pmt)\n"
   ]
  }
 ],
 "metadata": {
  "interpreter": {
   "hash": "74ab7c6ffe6706754a8af46cc4d18eebe476c74ce21a19282f620e1b1e9919fe"
  },
  "kernelspec": {
   "display_name": "Python 3.9.7 64-bit ('base': conda)",
   "language": "python",
   "name": "python3"
  },
  "language_info": {
   "codemirror_mode": {
    "name": "ipython",
    "version": 3
   },
   "file_extension": ".py",
   "mimetype": "text/x-python",
   "name": "python",
   "nbconvert_exporter": "python",
   "pygments_lexer": "ipython3",
   "version": "3.9.7"
  },
  "orig_nbformat": 4
 },
 "nbformat": 4,
 "nbformat_minor": 2
}
