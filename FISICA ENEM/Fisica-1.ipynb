{
 "cells": [
  {
   "cell_type": "markdown",
   "metadata": {},
   "source": [
    "# Leis de Newton"
   ]
  },
  {
   "cell_type": "markdown",
   "metadata": {},
   "source": [
    "Encontrar a Força Resultante do seguinte problema.\n",
    "\n",
    "Considerando F1 = 200KN e F2 = 100KN\n",
    "\n",
    "Theta 1 = 45 e Theta 2 = 30 (em Graus)"
   ]
  },
  {
   "cell_type": "markdown",
   "metadata": {},
   "source": [
    "<img src = \"assets/lei de newton.png\" width= 200, height=200>"
   ]
  },
  {
   "cell_type": "markdown",
   "metadata": {},
   "source": [
    "Aplicando o diagrama de corpo livre"
   ]
  },
  {
   "cell_type": "markdown",
   "metadata": {},
   "source": [
    "<img src = \"assets/leis de newton - forças.png\" width= 200, height=200>"
   ]
  },
  {
   "cell_type": "markdown",
   "metadata": {},
   "source": [
    "=> Entrada de dados"
   ]
  },
  {
   "cell_type": "code",
   "execution_count": 73,
   "metadata": {},
   "outputs": [],
   "source": [
    "import math\n",
    "\n",
    "vetor_f1 = float(input(\"FORÇA F1 [KN]\"))\n",
    "angulo_f1 = float(input(\"ANGULO da força F1 [KN]\"))\n",
    "\n",
    "vetor_f2 = float(input(\"FORÇA F2 [KN]\"))\n",
    "angulo_f2 = float(input(\"ANGULO da força F2 [KN]\"))"
   ]
  },
  {
   "cell_type": "markdown",
   "metadata": {},
   "source": [
    "=> Processamento"
   ]
  },
  {
   "cell_type": "code",
   "execution_count": 74,
   "metadata": {},
   "outputs": [
    {
     "name": "stdout",
     "output_type": "stream",
     "text": [
      "Os Angulos em radianos são: O1 = 0.79 e O2= 0.52 \n",
      "\n"
     ]
    }
   ],
   "source": [
    "#Angulos em radiano\n",
    "angulo_rad_f1 = (angulo_f1*math.pi) / 180 \n",
    "angulo_rad_f2 = (angulo_f2*math.pi) / 180\n",
    "print(f\"Os Angulos em radianos são: O1 = {angulo_rad_f1:.2f} e O2= {angulo_rad_f2:.2f} \\n\")\n",
    "\n",
    "#OBS NA FORMATAÇÃO:\n",
    "# [argumento] + [:.2f]\n"
   ]
  },
  {
   "cell_type": "code",
   "execution_count": 75,
   "metadata": {},
   "outputs": [
    {
     "name": "stdout",
     "output_type": "stream",
     "text": [
      "As componentes das forças no EIXO X são: F1X = 141.42 e F2X = -86.60 \n",
      " \n",
      "A força resultante em X = 54.82\n"
     ]
    }
   ],
   "source": [
    "#Eixo X:\n",
    "f1_x = vetor_f1*math.cos(angulo_rad_f1)\n",
    "f2_x = - vetor_f2*math.cos(angulo_rad_f2)\n",
    "\n",
    "print(f\"As componentes das forças no EIXO X são: F1X = {f1_x:.2f} e F2X = {f2_x:.2f} \\n \")\n",
    "\n",
    "#Resultante em X:\n",
    "forca_resultante_x = f2_x + f1_x \n",
    "print(f\"A força resultante em X = {forca_resultante_x:.2f}\")"
   ]
  },
  {
   "cell_type": "code",
   "execution_count": 76,
   "metadata": {},
   "outputs": [
    {
     "name": "stdout",
     "output_type": "stream",
     "text": [
      "\n",
      " As componentes das forças no EIXO Y são: F1Y = 141.42 e F2Y = 50.00\n",
      "A força resultante em Y = 191.42\n"
     ]
    }
   ],
   "source": [
    "#Eixo Y:\n",
    "\n",
    "f1_y = vetor_f1*math.sin(angulo_rad_f1)\n",
    "f2_y = vetor_f2*math.sin(angulo_rad_f2)\n",
    "\n",
    "print(f\"\\n As componentes das forças no EIXO Y são: F1Y = {f1_y:.2f} e F2Y = {f2_y:.2f}\")\n",
    "\n",
    "#Resultante em X:\n",
    "forca_resultante_y = f2_y + f1_y\n",
    "print(f\"A força resultante em Y = {forca_resultante_y:.2f}\")\n"
   ]
  },
  {
   "cell_type": "markdown",
   "metadata": {},
   "source": [
    " ==> Apos achar as forças resultantes em X e em Y: Basta fazer pitagoras e encontrar a força resultante."
   ]
  },
  {
   "cell_type": "code",
   "execution_count": 79,
   "metadata": {},
   "outputs": [
    {
     "name": "stdout",
     "output_type": "stream",
     "text": [
      "Força resultante = 199.12 KN\n",
      "Angulo resultante = 74.02 em graus \n"
     ]
    }
   ],
   "source": [
    "força_resultante = math.sqrt(forca_resultante_x **2 + forca_resultante_y ** 2)\n",
    "\n",
    "angulo_resultante = math.atan(forca_resultante_y/forca_resultante_x)\n",
    "\n",
    "angulo_res_grau = (180*angulo_resultante) / math.pi\n",
    "\n",
    "print(f\"Força resultante = {força_resultante:.2f} KN\")\n",
    "print(f\"Angulo resultante = {angulo_res_grau:.2f} em graus \")"
   ]
  }
 ],
 "metadata": {
  "interpreter": {
   "hash": "74ab7c6ffe6706754a8af46cc4d18eebe476c74ce21a19282f620e1b1e9919fe"
  },
  "kernelspec": {
   "display_name": "Python 3.9.7 64-bit ('base': conda)",
   "language": "python",
   "name": "python3"
  },
  "language_info": {
   "codemirror_mode": {
    "name": "ipython",
    "version": 3
   },
   "file_extension": ".py",
   "mimetype": "text/x-python",
   "name": "python",
   "nbconvert_exporter": "python",
   "pygments_lexer": "ipython3",
   "version": "3.9.7"
  },
  "orig_nbformat": 4
 },
 "nbformat": 4,
 "nbformat_minor": 2
}
