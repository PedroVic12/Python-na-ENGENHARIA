{
 "cells": [
  {
   "cell_type": "markdown",
   "metadata": {},
   "source": [
    "# Matematica Financeira:\n",
    "\n",
    "Juros Simples X Juros Compostos\n",
    "\n",
    "<img src = \"assets/juros.png\">"
   ]
  },
  {
   "cell_type": "markdown",
   "metadata": {},
   "source": [
    "Entrada de dados"
   ]
  },
  {
   "cell_type": "code",
   "execution_count": 11,
   "metadata": {},
   "outputs": [],
   "source": [
    "c = float(input(\"Digite o Capital Inicial:\"))\n",
    "taxa = float(input(\"Digite a taxa:\"))\n",
    "i = taxa/100\n",
    "t =float(input(\"Digite o tempo de transação:\"))"
   ]
  },
  {
   "cell_type": "markdown",
   "metadata": {},
   "source": [
    "Calculo do Juros Simples"
   ]
  },
  {
   "cell_type": "code",
   "execution_count": 12,
   "metadata": {},
   "outputs": [
    {
     "name": "stdout",
     "output_type": "stream",
     "text": [
      "Juros simples =  15360.0\n",
      "Montante de Juros simples =  35360.0\n"
     ]
    }
   ],
   "source": [
    "juros_simples = c*i*t\n",
    "montante_JS = c+ juros_simples\n",
    "print(\"Juros simples = \",juros_simples)\n",
    "print(\"Montante de Juros simples = \",montante_JS)"
   ]
  },
  {
   "cell_type": "markdown",
   "metadata": {},
   "source": [
    "Calculo Juros Compostos"
   ]
  },
  {
   "cell_type": "code",
   "execution_count": 13,
   "metadata": {},
   "outputs": [
    {
     "name": "stdout",
     "output_type": "stream",
     "text": [
      "Montante de Juros Compostos = 42593.44 reais\n"
     ]
    }
   ],
   "source": [
    "x = (1 + i)**t\n",
    "montante_JC = c*x\n",
    "print(f\"Montante de Juros Compostos = {montante_JC:.2f} reais\" )"
   ]
  },
  {
   "cell_type": "markdown",
   "metadata": {},
   "source": [
    "# EXERCICIOS:"
   ]
  },
  {
   "cell_type": "markdown",
   "metadata": {},
   "source": [
    "### 1) Calcule o montante produzido por R$ 2000,00 aplicado a taxa de 4% ao trimestre, apos um ano, no sistema de juros compostos."
   ]
  },
  {
   "cell_type": "code",
   "execution_count": 2,
   "metadata": {},
   "outputs": [
    {
     "name": "stdout",
     "output_type": "stream",
     "text": [
      "Digite o calculo que voce deseja:\n",
      "Juros Simples [1] | Juros compostos [2] | SAIR [3] \n",
      "\n",
      "====> CALCULO DE JUROS COMPOSTOS\n",
      "Montante de Juros Compostos = 42593.44 reais\n"
     ]
    }
   ],
   "source": [
    "def Calculo_Juros_Simples_e_Compostos():\n",
    "    print(\"Digite o calculo que voce deseja:\")\n",
    "    print((\"Juros Simples [1] | Juros compostos [2] | SAIR [3] \"))\n",
    "    while True:\n",
    "        calculo = int(input((\"Juros Simples [1] | Juros compostos [2] | SAIR [3] \")))\n",
    "        if calculo == 3:\n",
    "            break\n",
    "        \n",
    "        c = float(input(\"Digite o Capital Inicial:\"))\n",
    "        taxa = float(input(\"Digite a taxa:\"))\n",
    "        i = taxa/100\n",
    "        t =float(input(\"Digite o tempo de transação:\"))\n",
    "        \n",
    "        if calculo != 1 and calculo != 2:\n",
    "            print(\"Selecione a opção [1] [2] ou [3] \")\n",
    "        \n",
    "        if calculo == 1:\n",
    "            print(\"\\n=====> CALCULO DE JUROS SIMPLES\")\n",
    "            juros_simples = c*i*t\n",
    "            montante_JS = c+ juros_simples\n",
    "            print(\"Juros simples = \",juros_simples)\n",
    "            print(\"Montante de Juros simples = \",montante_JS)\n",
    "        \n",
    "        if calculo ==2:\n",
    "            print(\"\\n====> CALCULO DE JUROS COMPOSTOS\")\n",
    "            x = (1 + i)**t\n",
    "            montante_JC = c*x\n",
    "            print(f\"Montante de Juros Compostos = {montante_JC:.2f} reais\" )\n",
    "\n",
    "Calculo_Juros_Simples_e_Compostos()\n",
    "        "
   ]
  },
  {
   "cell_type": "markdown",
   "metadata": {},
   "source": [
    "### 2) Se o capital de R$ 1000,00 rende mensalmente 25 reais, qual a taxa anual de juros no sistema de juros simples?"
   ]
  },
  {
   "cell_type": "code",
   "execution_count": 26,
   "metadata": {},
   "outputs": [
    {
     "name": "stdout",
     "output_type": "stream",
     "text": [
      "Taxa mensal =  0.025\n",
      "Taxa anual = 0.30\n",
      "Juros =  300.00000000000006\n",
      "Montante =  1300.0\n"
     ]
    }
   ],
   "source": [
    "#Entrada de dados\n",
    "c = 1000\n",
    "juros = 25\n",
    "t = 1 #1mes\n",
    "\n",
    "i_mensal = juros/(c*t)\n",
    "print(\"Taxa mensal = \",i_mensal)\n",
    "i_anual = i_mensal*12  #1 ano = 12 meses\n",
    "print(f\"Taxa anual = {i_anual:.2f}\")\n",
    "juros = c*i_anual*t\n",
    "print(\"Juros = \",juros)\n",
    "\n",
    "\n",
    "montante = juros + c\n",
    "print(\"Montante = \",montante)"
   ]
  },
  {
   "cell_type": "markdown",
   "metadata": {},
   "source": [
    "### Calculo de Raiz quadrada\n",
    "\n",
    "(numero, raiz) \n",
    "\n",
    "obs: raiz quadrada = 1/2"
   ]
  },
  {
   "cell_type": "code",
   "execution_count": 8,
   "metadata": {},
   "outputs": [
    {
     "name": "stdout",
     "output_type": "stream",
     "text": [
      "1.0253240572484439\n"
     ]
    }
   ],
   "source": [
    "import math\n",
    "y = 1.35\n",
    "x= math.pow(y,1/12)\n",
    "print(x)"
   ]
  }
 ],
 "metadata": {
  "interpreter": {
   "hash": "d7ed813f2fd1cc3371755b9d2d623f40d36ad7c2f0b5c39a31afb19ec5914f68"
  },
  "kernelspec": {
   "display_name": "Python 3.9.7 64-bit ('base': conda)",
   "language": "python",
   "name": "python3"
  },
  "language_info": {
   "codemirror_mode": {
    "name": "ipython",
    "version": 3
   },
   "file_extension": ".py",
   "mimetype": "text/x-python",
   "name": "python",
   "nbconvert_exporter": "python",
   "pygments_lexer": "ipython3",
   "version": "3.9.7"
  },
  "orig_nbformat": 4
 },
 "nbformat": 4,
 "nbformat_minor": 2
}
