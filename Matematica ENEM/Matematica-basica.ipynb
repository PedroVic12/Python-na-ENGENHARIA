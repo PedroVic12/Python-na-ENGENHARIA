{
 "cells": [
  {
   "cell_type": "markdown",
   "metadata": {},
   "source": [
    "### Calculo Da Hipotensusa"
   ]
  },
  {
   "cell_type": "code",
   "execution_count": 1,
   "metadata": {},
   "outputs": [
    {
     "name": "stdout",
     "output_type": "stream",
     "text": [
      "A hipotenusa é 5.0 \n"
     ]
    }
   ],
   "source": [
    "import math\n",
    "\n",
    "cateto1 = float(input('Digite um valor do cateto adjacente'))\n",
    "cateto2 = float(input('Digite o valor cateto oposto'))\n",
    "\n",
    "hipotenusa = math.sqrt(cateto1**2 + cateto2**2)\n",
    "print(f'A hipotenusa é {hipotenusa} ') \n"
   ]
  },
  {
   "cell_type": "markdown",
   "metadata": {},
   "source": [
    "### Seno, cosseno e Tangente"
   ]
  },
  {
   "cell_type": "code",
   "execution_count": null,
   "metadata": {},
   "outputs": [
    {
     "name": "stdout",
     "output_type": "stream",
     "text": [
      "O cosseno do angulo 45.0 graus  é 0.71\n",
      "O seno do angulo 45.0 graus  é 0.71\n",
      "O cosseno do angulo 45.0 graus  é 1.00\n"
     ]
    }
   ],
   "source": [
    "angulo = float(input('Digite o valro de um angulo em GRAUS:'))\n",
    "\n",
    "# math.cos(angulo)   // #Esta em radianos\n",
    "resultado_cos = math.cos( (angulo*math.pi) / 180)\n",
    "resultado_seno = math.sin( (angulo*math.pi) / 180)\n",
    "resultado_tang = math.tan( (angulo*math.pi) / 180)\n",
    "print(f'O cosseno do angulo {angulo} graus  é {resultado_cos:.2f}')\n",
    "print(f'O seno do angulo {angulo} graus  é {resultado_seno:.2f}')\n",
    "print(f'O cosseno do angulo {angulo} graus  é {resultado_tang:.2f}')\n"
   ]
  },
  {
   "cell_type": "code",
   "execution_count": 13,
   "metadata": {},
   "outputs": [
    {
     "name": "stdout",
     "output_type": "stream",
     "text": [
      "O angulo de 60.0 tem o SENO de 0.866025\n",
      "O angulo de 60.0 tem o COSSENO de 0.500000\n",
      "O angulo de 60.0 tem a TANGENTE de 1.732051\n"
     ]
    }
   ],
   "source": [
    "from math import radians, sin, cos, tan\n",
    "num = float(input('Digite o valor do numero que voce deseja: '))\n",
    "seno = sin(radians(num))\n",
    "cos = cos(radians(num))\n",
    "tg = tan(radians(num))\n",
    "print(f'O angulo de {num} tem o SENO de {seno :1f}')\n",
    "print(f'O angulo de {num} tem o COSSENO de {cos :2f}')\n",
    "print(f'O angulo de {num} tem a TANGENTE de {tg :2f}')"
   ]
  },
  {
   "cell_type": "markdown",
   "metadata": {},
   "source": [
    "### Progessao Aritimetica (PA)"
   ]
  },
  {
   "cell_type": "code",
   "execution_count": 7,
   "metadata": {},
   "outputs": [
    {
     "name": "stdout",
     "output_type": "stream",
     "text": [
      "[5, 10, 15, 20, 25]\n"
     ]
    }
   ],
   "source": [
    "# Inserindo os Dados da PA\n",
    "\n",
    "a1 = int(input('Qual o primerio termo da PA'))\n",
    "razao = int(input('Qual é a razão da PA'))\n",
    "n_termos = int(input('Qual o numero de termos da PA'))\n",
    "\n",
    "PA = []\n",
    "# Motando a estrutura pra formar a lista\n",
    "n = 1\n",
    "while n < (n_termos+1):\n",
    "    proximo_termo = a1 + (n-1)*razao\n",
    "    PA.append(proximo_termo)\n",
    "    n = n + 1\n",
    "print(PA)"
   ]
  },
  {
   "cell_type": "markdown",
   "metadata": {},
   "source": [
    "- Para acessar qualquer termo da PA, basta acessalo pelo indice da lista que equivale e n-1, ja que os indices da lista começam em 0. Por exemplo, usaremos o termo sendo 2"
   ]
  },
  {
   "cell_type": "code",
   "execution_count": null,
   "metadata": {},
   "outputs": [
    {
     "name": "stdout",
     "output_type": "stream",
     "text": [
      "O 2º termo é o: 10 \n"
     ]
    }
   ],
   "source": [
    "termo = 2\n",
    "print(f'O {termo}º termo é o: {PA[termo -1]}' )"
   ]
  },
  {
   "cell_type": "markdown",
   "metadata": {},
   "source": [
    "Soma dos termos da PA"
   ]
  },
  {
   "cell_type": "code",
   "execution_count": 8,
   "metadata": {},
   "outputs": [
    {
     "name": "stdout",
     "output_type": "stream",
     "text": [
      "A sequencia: [5, 10, 15, 20, 25] \n",
      "A soma dos termos da PA é: 75 \n"
     ]
    }
   ],
   "source": [
    "soma_termos = 0\n",
    "y = 0\n",
    "while y < n_termos:\n",
    "    soma_termos = soma_termos + PA[y]\n",
    "    y = y + 1\n",
    "\n",
    "print(f'A sequencia: {PA} ')\n",
    "print(f'A soma dos termos da PA é: {soma_termos} ')"
   ]
  }
 ],
 "metadata": {
  "interpreter": {
   "hash": "74ab7c6ffe6706754a8af46cc4d18eebe476c74ce21a19282f620e1b1e9919fe"
  },
  "kernelspec": {
   "display_name": "Python 3.8.8 64-bit ('base': conda)",
   "language": "python",
   "name": "python3"
  },
  "language_info": {
   "codemirror_mode": {
    "name": "ipython",
    "version": 3
   },
   "file_extension": ".py",
   "mimetype": "text/x-python",
   "name": "python",
   "nbconvert_exporter": "python",
   "pygments_lexer": "ipython3",
   "version": "3.9.7"
  },
  "orig_nbformat": 4
 },
 "nbformat": 4,
 "nbformat_minor": 2
}
