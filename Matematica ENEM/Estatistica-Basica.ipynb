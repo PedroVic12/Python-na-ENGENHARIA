{
 "cells": [
  {
   "cell_type": "markdown",
   "metadata": {},
   "source": [
    "# <font color = yellow> 1) Medidas de tendencia Central </font>\n",
    "\n"
   ]
  },
  {
   "cell_type": "markdown",
   "metadata": {},
   "source": [
    "### Coleta de dados:"
   ]
  },
  {
   "cell_type": "code",
   "execution_count": 29,
   "metadata": {},
   "outputs": [
    {
     "name": "stdout",
     "output_type": "stream",
     "text": [
      "O seu conjunto de dados é:  [2.0, 2.0, 3.0, 4.0, 5.0]\n"
     ]
    }
   ],
   "source": [
    "n = int(input(\"Quantos dados serão manipulados?(NUMERO DE TERMOS)\"))\n",
    "\n",
    "dados = []\n",
    "x = 0\n",
    "while x < n:\n",
    "    novo_valor = float(input(\"Digite um valor dos seus dados:\"))\n",
    "    dados.append(novo_valor)\n",
    "    x = x + 1\n",
    "print(\"O seu conjunto de dados é: \", dados)\n",
    "\n"
   ]
  },
  {
   "cell_type": "markdown",
   "metadata": {},
   "source": [
    "## <font color = blue> Media aritimetica </font>\n",
    "\n",
    "M = (x1 + x2 + x3) / 3"
   ]
  },
  {
   "cell_type": "code",
   "execution_count": 30,
   "metadata": {},
   "outputs": [
    {
     "name": "stdout",
     "output_type": "stream",
     "text": [
      "O seu conjunto de dados é:  [2.0, 2.0, 3.0, 4.0, 5.0]\n",
      "Media aritimetica =  3.2\n"
     ]
    }
   ],
   "source": [
    "soma_termos = 0\n",
    "print(\"O seu conjunto de dados é: \", dados)\n",
    "for numero in dados:\n",
    "    soma_termos = soma_termos + numero\n",
    "media = soma_termos / n\n",
    "print(\"Media aritimetica = \",media)"
   ]
  },
  {
   "cell_type": "markdown",
   "metadata": {},
   "source": [
    "## <font color = blue> Mediana </font>"
   ]
  },
  {
   "cell_type": "markdown",
   "metadata": {},
   "source": [
    "<img src = assets/mediana.png> "
   ]
  },
  {
   "cell_type": "code",
   "execution_count": 31,
   "metadata": {},
   "outputs": [
    {
     "name": "stdout",
     "output_type": "stream",
     "text": [
      "Dados ordenados:\n",
      "[2.0, 2.0, 3.0, 4.0, 5.0]\n",
      "Mediana =  3.0\n"
     ]
    }
   ],
   "source": [
    "#Deixando os dados ordenados\n",
    "dados_ordenados = sorted(dados)\n",
    "print(\"Dados ordenados:\")\n",
    "print(dados_ordenados)\n",
    "\n",
    "#Numero de termos = par\n",
    "if n%2 == 0:\n",
    "    posicao_central_1 = int(n/2)\n",
    "    posicao_central_2 = int(posicao_central_1 - 1)\n",
    "    mediana = (dados_ordenados[posicao_central_1] + dados_ordenados[posicao_central_2]) / 2\n",
    "    print(\"Mediana = \", mediana)\n",
    "else:\n",
    "    posicao_central = int(n/2 - 0.5)\n",
    "    mediana = dados_ordenados[posicao_central]\n",
    "    print(\"Mediana = \", mediana)\n",
    "    \n",
    "    \n",
    "    "
   ]
  },
  {
   "cell_type": "markdown",
   "metadata": {},
   "source": [
    "## <font color = blue> Moda </font>"
   ]
  },
  {
   "cell_type": "markdown",
   "metadata": {},
   "source": [
    "<img src = assets/moda.png> "
   ]
  },
  {
   "cell_type": "code",
   "execution_count": 32,
   "metadata": {},
   "outputs": [
    {
     "name": "stdout",
     "output_type": "stream",
     "text": [
      "Moda =  2.0\n"
     ]
    }
   ],
   "source": [
    "import statistics\n",
    "moda = statistics.mode(dados)\n",
    "print(\"Moda = \", moda)"
   ]
  },
  {
   "cell_type": "markdown",
   "metadata": {},
   "source": [
    "# <font color = yellow> 2) Medidas de disperção </font>"
   ]
  },
  {
   "cell_type": "markdown",
   "metadata": {},
   "source": [
    "## - Variancia:\n",
    "\n",
    "É usada para expressr o quanto um conjunto de dados se desvia da Media"
   ]
  },
  {
   "cell_type": "markdown",
   "metadata": {},
   "source": [
    "<img src = assets/desvio-padrao.jpg> "
   ]
  },
  {
   "cell_type": "code",
   "execution_count": 38,
   "metadata": {},
   "outputs": [
    {
     "name": "stdout",
     "output_type": "stream",
     "text": [
      "Variancia =  1.7\n"
     ]
    }
   ],
   "source": [
    "somatorio = 0\n",
    "for numero in dados:\n",
    "    somatorio = somatorio + (numero - media)**2\n",
    "variancia = somatorio / (n-1)\n",
    "print(\"Variancia = \",variancia)"
   ]
  },
  {
   "cell_type": "markdown",
   "metadata": {},
   "source": [
    "## - Desvio Padrão:\n",
    " \n",
    " - Indica o quanto um conjuto de dados é uniforme.\n",
    "\n",
    " - Quanto mais proximo de 0, mais homogeneo são os dados amostrais."
   ]
  },
  {
   "cell_type": "markdown",
   "metadata": {},
   "source": [
    "$DP^2 = variancia$"
   ]
  },
  {
   "cell_type": "code",
   "execution_count": 43,
   "metadata": {},
   "outputs": [
    {
     "name": "stdout",
     "output_type": "stream",
     "text": [
      "Desvio Padrão =  1.3038404810405297\n"
     ]
    }
   ],
   "source": [
    "import math\n",
    "dp = math.sqrt(variancia)\n",
    "print(\"Desvio Padrão = \",dp)"
   ]
  }
 ],
 "metadata": {
  "interpreter": {
   "hash": "1d39f56d0a4fbbb1d6bad3a025974df6eb46dca27b26459075c84ca7fc4f4a33"
  },
  "kernelspec": {
   "display_name": "Python 3.9.9 64-bit (windows store)",
   "language": "python",
   "name": "python3"
  },
  "language_info": {
   "codemirror_mode": {
    "name": "ipython",
    "version": 3
   },
   "file_extension": ".py",
   "mimetype": "text/x-python",
   "name": "python",
   "nbconvert_exporter": "python",
   "pygments_lexer": "ipython3",
   "version": "3.9.7"
  },
  "orig_nbformat": 4
 },
 "nbformat": 4,
 "nbformat_minor": 2
}
