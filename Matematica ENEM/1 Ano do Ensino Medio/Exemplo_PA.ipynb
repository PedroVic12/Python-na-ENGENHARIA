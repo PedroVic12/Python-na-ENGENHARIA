{
 "cells": [
  {
   "cell_type": "markdown",
   "metadata": {},
   "source": [
    "# Exercicio 1) enem 2013\n",
    "\n",
    "As projeções para a produção de arroz no período de 2012 – 2021, em uma determinada região produtora, apontam para uma perspectiva de crescimento constante da produção anual. O quadro apresenta a quantidade de arroz, em toneladas, que será produzida nos primeiros anos desse período, de acordo com essa projeção."
   ]
  },
  {
   "cell_type": "markdown",
   "metadata": {},
   "source": [
    "ANO  | PROJEÇÃO DA PRODUÇÃO (t) \n",
    "\n",
    "2012 | 50,25  \n",
    "\n",
    "2013 | 51,50\n",
    "\n",
    "2014 | 52,75\n",
    "\n",
    "2015 | 54,00\n",
    "\n",
    "A quantidade total de arroz em toneladas que devera ser produzida no periodo de 2012 e 2021 sera de?"
   ]
  },
  {
   "cell_type": "markdown",
   "metadata": {},
   "source": [
    "- Termo geral:\n",
    "$$ an = a1 + (n-1)razao $$\n",
    "\n",
    "- Soma dos termos:\n",
    "$$ Sn= \\frac{(a1 + an)n}{2} $$"
   ]
  },
  {
   "cell_type": "code",
   "execution_count": 1,
   "metadata": {},
   "outputs": [
    {
     "name": "stdout",
     "output_type": "stream",
     "text": [
      "[50.25, 51.5, 52.75, 54.0, 55.25, 56.5, 57.75, 59.0, 60.25, 61.5]\n",
      "A soma dos termos é 558.75 \n"
     ]
    }
   ],
   "source": [
    "#Entrada de dados\n",
    "PA = []\n",
    "a1 = 50.25\n",
    "razao = 51.50 - 50.25\n",
    "n_termos = 10\n",
    "\n",
    "#Estrutura da sequencia:\n",
    "x=1\n",
    "while x < (n_termos+1): #No python começa no indice [0] entao por isso o (+ 1) \n",
    "    \n",
    "    proximo_termo = a1+(x-1)*razao # formula do termo geral\n",
    "    \n",
    "    PA.append(proximo_termo) #adiciona o proximo termo na sequencia\n",
    "    \n",
    "    x = x +1 # Contador\n",
    "print(PA)\n",
    "\n",
    "#Soma dos termos:\n",
    "soma_termos = 0\n",
    "y = 0\n",
    "while y < n_termos: # Nao precisa burlar o indice, nesse caso. POdemos usar o indice y[0] que nao vai atrapalhar nos calculos.\n",
    "    \n",
    "    soma_termos = soma_termos + PA[y]\n",
    "    y = y + 1\n",
    "\n",
    "print(f\"A soma dos termos é {soma_termos} \")\n",
    "        "
   ]
  },
  {
   "cell_type": "markdown",
   "metadata": {},
   "source": [
    "# Exercicio 2) \n",
    "Uma empresa madeireira, ao desmatar uma floresta,seguia este cronograma:\n",
    "\n",
    "- no primeiro dia - uma árvore derrubada;\n",
    "- no segundo dia - duas árvores derrubadas;\n",
    "- no terceiro dia - três árvores derrubadas e, assim,sucessivamente.\n",
    "\n",
    "Para compensar tal desmatamento, foi criada uma norma na qual se estabelecia que seriam plantadas árvores segundo a expressão $$ P = 2D-1 $$ , sendo P o número de árvores plantadas e D o número de árvores derrubadas a cada dia pela empresa.Quando o total de árvores derrubadas chegar a 1275, o total de árvores plantadas, de acordo com a norma estabelecida, será equivalente a:"
   ]
  },
  {
   "cell_type": "markdown",
   "metadata": {},
   "source": [
    "# Solução:"
   ]
  },
  {
   "cell_type": "markdown",
   "metadata": {},
   "source": [
    "- termo geral:\n",
    "$$ an = a1 + (n-1)*razao $$\n",
    "$$ an = 1 + (n -1)1 $$\n",
    "$$ an = n  $$ "
   ]
  },
  {
   "cell_type": "markdown",
   "metadata": {},
   "source": [
    "- Soma dos termos:\n",
    "$$ sn = \\frac{(a1 + an)*n}{2} $$ \n",
    "\n",
    "sn = 1275\n",
    "\n",
    "$$ 1275 = \\frac{(1 + n)n}{2} $$ \n",
    "\n",
    "$$ n^2 + n = 2550"
   ]
  },
  {
   "cell_type": "code",
   "execution_count": 1,
   "metadata": {},
   "outputs": [
    {
     "name": "stdout",
     "output_type": "stream",
     "text": [
      "\n",
      " O delta tem o valor de: 101.0 \n",
      " \n",
      "A raiz 1 é 50.0\n",
      "\n",
      "A raiz 2 é -51.0 \n"
     ]
    }
   ],
   "source": [
    "import math\n",
    "\n",
    "\n",
    "def calcular_bhaskara():\n",
    "    a = float(input(\"Digite o Coeficiente [A]\"))\n",
    "    b = float(input(\"Digite o Coeficiente [B]\"))\n",
    "    c = float(input(\"Digite o Coeficiente [C]\"))\n",
    "\n",
    "    delta = math.sqrt(b*b - 4*a*c)\n",
    "    if delta < 0:\n",
    "        print(\"Delta negativo!\")\n",
    "        print(delta)\n",
    "        print(\"Portanto, nao existe raizes reais\")\n",
    "\n",
    "    else:\n",
    "        print(f\"\\n O delta tem o valor de: {delta} \\n \")\n",
    "        raiz_1 = (-b + delta) / 2*a\n",
    "        raiz_2 = (-b - delta) / 2*a\n",
    "        print(f'A raiz 1 é {raiz_1}\\n')\n",
    "        print(f\"A raiz 2 é {raiz_2} \")\n",
    "\n",
    "\n",
    "calcular_bhaskara()\n"
   ]
  },
  {
   "cell_type": "code",
   "execution_count": 3,
   "metadata": {},
   "outputs": [
    {
     "name": "stdout",
     "output_type": "stream",
     "text": [
      "A sequencia de arvores derrubadas é \n",
      "[1, 2, 3, 4, 5, 6, 7, 8, 9, 10, 11, 12, 13, 14, 15, 16, 17, 18, 19, 20, 21, 22, 23, 24, 25, 26, 27, 28, 29, 30, 31, 32, 33, 34, 35, 36, 37, 38, 39, 40, 41, 42, 43, 44, 45, 46, 47, 48, 49, 50]\n"
     ]
    }
   ],
   "source": [
    "# Portanto, n_termos = 50\n",
    "a1 = 1\n",
    "razao = 1\n",
    "n_derrubadas = 50\n",
    "\n",
    "#Lista de Arvores derrubadas\n",
    "derrubadas = []\n",
    "x = 1\n",
    "\n",
    "while x < (n_derrubadas+1): # precisa disso pq no python o indice começa no 0\n",
    "    an = a1 + (x-1)*razao\n",
    "    derrubadas.append(an)\n",
    "    x = x + 1\n",
    "print(f\"A sequencia de arvores derrubadas é \\n{derrubadas}\")\n",
    "\n",
    "\n"
   ]
  },
  {
   "cell_type": "code",
   "execution_count": 133,
   "metadata": {},
   "outputs": [
    {
     "name": "stdout",
     "output_type": "stream",
     "text": [
      "A sequencia de arvores PLantadas é [1, 3, 5, 7, 9, 11, 13, 15, 17, 19, 21, 23, 25, 27, 29, 31, 33, 35, 37, 39, 41, 43, 45, 47, 49, 51, 53, 55, 57, 59, 61, 63, 65, 67, 69, 71, 73, 75, 77, 79, 81, 83, 85, 87, 89, 91, 93, 95, 97, 99] \n",
      "\n",
      " Quantidade total de arvores = 2500\n"
     ]
    }
   ],
   "source": [
    "y = 0\n",
    "plantadas = []\n",
    "\n",
    "while y < (n_derrubadas):\n",
    "    p = 2*(derrubadas[y]) - 1\n",
    "    plantadas.append(p)\n",
    "    y = y + 1\n",
    "print(f\"A sequencia de arvores PLantadas é {plantadas} \")\n",
    "\n",
    "#Quantidade total (soma dos termos)\n",
    "\n",
    "soma_termos_plantadas = 0\n",
    "z = 0\n",
    "while z < n_derrubadas:\n",
    "    soma_termos_plantadas = soma_termos_plantadas + plantadas[z]\n",
    "    z = z+1\n",
    "print(f'\\n Quantidade total de arvores = {soma_termos_plantadas}')\n",
    "\n",
    "\n",
    "\n",
    "        "
   ]
  },
  {
   "cell_type": "code",
   "execution_count": 29,
   "metadata": {},
   "outputs": [
    {
     "name": "stdout",
     "output_type": "stream",
     "text": [
      "99\n",
      "A sequencia: \n",
      "[1, 3, 5, 7, 9, 11, 13, 15, 17, 19, 21, 23, 25, 27, 29, 31, 33, 35, 37, 39, 41, 43, 45, 47, 49, 51, 53, 55, 57, 59, 61, 63, 65, 67, 69, 71, 73, 75, 77, 79, 81, 83, 85, 87, 89, 91, 93, 95, 97, 99] \n",
      "\n",
      " A soma dos termos da PA é: 2500 \n"
     ]
    }
   ],
   "source": [
    "#Entrada de dados\n",
    "PA = []\n",
    "a1 = 1\n",
    "razao = 2\n",
    "n_termos_plantadas = (2*n_derrubadas) - 1\n",
    "\n",
    "# Motando a estrutura pra formar a lista\n",
    "n = 1\n",
    "while n < (n_termos_plantadas+1):\n",
    "    proximo_termo = a1 + (n-1)*razao\n",
    "    PA.append(proximo_termo)\n",
    "    n = n + 1\n",
    "    if proximo_termo == 99:\n",
    "        break\n",
    "print(proximo_termo)\n",
    "print(f'A sequencia: \\n{PA} ')\n",
    "\n",
    "#Soma dos termos:\n",
    "soma_plantadas2 = 0\n",
    "j = 0\n",
    "\n",
    "while j < n_derrubadas:\n",
    "    soma_plantadas2 = soma_plantadas2 + PA[j]\n",
    "    j = j+1\n",
    "        \n",
    "print(f'\\n A soma dos termos da PA é: {soma_plantadas2} ')\n",
    "\n"
   ]
  }
 ],
 "metadata": {
  "interpreter": {
   "hash": "13eb0af71620a846e484681143862ad0a4deab6cadfc353264e5c14897c11035"
  },
  "kernelspec": {
   "display_name": "Python 3.9.9 64-bit",
   "language": "python",
   "name": "python3"
  },
  "language_info": {
   "codemirror_mode": {
    "name": "ipython",
    "version": 3
   },
   "file_extension": ".py",
   "mimetype": "text/x-python",
   "name": "python",
   "nbconvert_exporter": "python",
   "pygments_lexer": "ipython3",
   "version": "3.9.7"
  },
  "orig_nbformat": 4
 },
 "nbformat": 4,
 "nbformat_minor": 2
}
